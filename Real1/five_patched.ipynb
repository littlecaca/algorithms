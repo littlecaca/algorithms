{
 "cells": [
  {
   "cell_type": "markdown",
   "metadata": {},
   "source": [
    "### 分解质因子"
   ]
  },
  {
   "cell_type": "markdown",
   "metadata": {},
   "source": [
    "可以写出最坏情况复杂度为O(n**(1/2))的算法。"
   ]
  }
 ],
 "metadata": {
  "language_info": {
   "name": "python"
  }
 },
 "nbformat": 4,
 "nbformat_minor": 2
}
